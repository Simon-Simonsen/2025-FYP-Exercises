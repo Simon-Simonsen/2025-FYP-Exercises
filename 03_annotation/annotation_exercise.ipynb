{
  "cells": [
    {
      "cell_type": "markdown",
      "metadata": {
        "id": "sccs5Qb1tG-2"
      },
      "source": [
        "## Projects in Data Science - Exercises for the Annotation lectures\n",
        "\n",
        "In these exercises you will use some generated and exisiting (collected from human observer) data, to practice working with inter-observer agreement.\n",
        "\n",
        "The existing data we are working with are annotations made for skin lesion images from the ISIC archive (https://www.isic-archive.com/). The annotations describe different characteristics of how the lesion look - for example, whether they are asymmetric or not.\n",
        "\n",
        "\n",
        "You can download the data here: https://figshare.com/s/5cbbce14647b66286544?file=11886200\n",
        "\n",
        "\n",
        "Each row is a different image, and each column is a different feature done by a specific annotator. For example: Asymmetry_7_1 is the feature Asymmetry annotated by annotator 7_1. There are 100 lesions, each of which was annotated by six annotators in total, five different features, and six different annotators. The feature are either binary, or ordinal.   \n",
        "\n",
        "These annotations were made in 2017 by students at TU Eindhoven. You can (optionally) read more about the background and how the annotations can be used in these papers:\n",
        "\n",
        "* https://arxiv.org/pdf/1806.08174\n",
        "* https://www.melba-journal.org/papers/2021:020.html\n",
        "\n"
      ]
    },
    {
      "cell_type": "code",
      "execution_count": null,
      "metadata": {
        "colab": {
          "base_uri": "https://localhost:8080/"
        },
        "id": "aQ251P0ptDmv",
        "outputId": "dc918d74-e60d-4b34-eb80-2efd6e9eba5b"
      },
      "outputs": [
        {
          "name": "stdout",
          "output_type": "stream",
          "text": [
            "(100, 31)\n",
            "             ID  Asymmetry_7_1  Color_7_1  Border_7_1  Dermo_7_1  Blue_7_1  \\\n",
            "0  ISIC_0000549              2          4           1          1         0   \n",
            "1  ISIC_0000550              1          3           1          1         0   \n",
            "2  ISIC_0000551              2          2           1          2         0   \n",
            "3  ISIC_0000552              1          4           1          1         1   \n",
            "4  ISIC_0000554              2          3           1          1         1   \n",
            "\n",
            "   Asymmetry_7_2  Color_7_2  Border_7_2  Dermo_7_2  ...  Asymmetry_7_5  \\\n",
            "0              2          5           1          2  ...              2   \n",
            "1              2          4           1          1  ...              1   \n",
            "2              2          3           1          2  ...              1   \n",
            "3              2          4           1          1  ...              2   \n",
            "4              2          5           1          2  ...              2   \n",
            "\n",
            "   Color_7_5  Border_7_5  Dermo_7_5  Blue_7_5  Asymmetry_7_6  Color_7_6  \\\n",
            "0          5           1          2         1            2.0        5.0   \n",
            "1          5           1          1         0            1.0        4.0   \n",
            "2          4           1          1         0            2.0        2.0   \n",
            "3          4           1          1         0            1.0        3.0   \n",
            "4          5           1          2         0            2.0        3.0   \n",
            "\n",
            "   Border_7_6  Dermo_7_6  Blue_7_6  \n",
            "0         1.0        2.0       1.0  \n",
            "1         1.0        1.0       0.0  \n",
            "2         1.0        2.0       0.0  \n",
            "3         1.0        1.0       0.0  \n",
            "4         1.0        1.0       1.0  \n",
            "\n",
            "[5 rows x 31 columns]\n"
          ]
        }
      ],
      "source": [
        "# Load skin lesion annotations as a dataframe\n"
      ]
    },
    {
      "cell_type": "markdown",
      "metadata": {
        "id": "zlDMsdizvxrA"
      },
      "source": [
        "## How often do annotators agree?\n",
        "\n",
        "Select Blue which is a binary feature, for two different annotators. Calculate how often they agree in percent. This is the same as the accuracy metric but you can do this without any imports.\n",
        "\n"
      ]
    },
    {
      "cell_type": "code",
      "execution_count": null,
      "metadata": {
        "colab": {
          "base_uri": "https://localhost:8080/"
        },
        "id": "IGUWDGuJvuz-",
        "outputId": "e35ac3ed-c732-4099-f8c6-4212d2257bcc"
      },
      "outputs": [
        {
          "data": {
            "text/plain": [
              "82"
            ]
          },
          "execution_count": 14,
          "metadata": {},
          "output_type": "execute_result"
        }
      ],
      "source": [
        "## Select two annotators and compute observed agreement (\"accuracy\")\n",
        "\n"
      ]
    },
    {
      "cell_type": "markdown",
      "metadata": {
        "id": "8kBI_YhGw9qR"
      },
      "source": [
        "Make a 6x6 array where you loop through the different annotators, and calculate their agreement. You should see that for all annotator pairs, the percentage of agreement is between 80 and 90.\n"
      ]
    },
    {
      "cell_type": "code",
      "execution_count": null,
      "metadata": {
        "id": "MgernQTExsOO"
      },
      "outputs": [],
      "source": [
        "## Loop through the annotators"
      ]
    },
    {
      "cell_type": "markdown",
      "metadata": {
        "id": "J91RKtOjx4ug"
      },
      "source": [
        "## How can we interpret this agreement measure?\n",
        "\n",
        "Look at how often each annotator found that the lesion has value 1 for the Blue feature.\n"
      ]
    },
    {
      "cell_type": "code",
      "execution_count": null,
      "metadata": {
        "colab": {
          "base_uri": "https://localhost:8080/"
        },
        "id": "BTk9XedOzG-m",
        "outputId": "fcbc005d-2d1b-4120-9866-19a0682d035b"
      },
      "outputs": [
        {
          "data": {
            "text/plain": [
              "31"
            ]
          },
          "execution_count": 15,
          "metadata": {},
          "output_type": "execute_result"
        }
      ],
      "source": [
        "## Find how often each annotator thought the lesion had the Blue feature\n"
      ]
    },
    {
      "cell_type": "markdown",
      "metadata": {
        "id": "uUq3n7D301ow"
      },
      "source": [
        "Create a \"random\" feature (like an annotator who did not look at the image at all), where the Blue feature occurs as often as in the real annotations. Then again calculate the agreement. Is the result what you would expect?"
      ]
    },
    {
      "cell_type": "code",
      "execution_count": null,
      "metadata": {
        "colab": {
          "base_uri": "https://localhost:8080/"
        },
        "id": "BRdg04WK2nGj",
        "outputId": "f0f4e7e1-742c-4ad9-af09-bf5650887d02"
      },
      "outputs": [
        {
          "data": {
            "text/plain": [
              "69"
            ]
          },
          "execution_count": 20,
          "metadata": {},
          "output_type": "execute_result"
        }
      ],
      "source": [
        "# Create random annotation with the same prevalence of Blue adnd calculate the observed agreement\n",
        "\n"
      ]
    },
    {
      "cell_type": "markdown",
      "metadata": {
        "id": "bCl06zc33NeK"
      },
      "source": [
        "Select only the lesions where at least one annotator thought it had the Blue feature. Calculate the agreements again (as percentage out of 100. What do you notice?"
      ]
    },
    {
      "cell_type": "code",
      "execution_count": null,
      "metadata": {
        "colab": {
          "base_uri": "https://localhost:8080/"
        },
        "id": "DwT0UPCb4dR7",
        "outputId": "e540ceab-b53d-4c76-8530-4035de1b763d"
      },
      "outputs": [
        {
          "name": "stdout",
          "output_type": "stream",
          "text": [
            "1085\n"
          ]
        },
        {
          "data": {
            "text/plain": [
              "48.57142857142857"
            ]
          },
          "execution_count": 35,
          "metadata": {},
          "output_type": "execute_result"
        }
      ],
      "source": [
        "# Find all lesions with at least one Blue annotation, and calculate agreement again (in %)\n",
        "\n",
        "\n"
      ]
    },
    {
      "cell_type": "markdown",
      "metadata": {
        "id": "8cNQqr0-6J7I"
      },
      "source": [
        "## Cohen's Kappa\n",
        "\n",
        "As you maybe see above, total % of agreement may not reflect what you want to find out about your annotations, if the different values are not occuring equally often.\n",
        "\n",
        "Instead let's look at the Kappa score, which adjusts for this. You can calculate it yourself it from the observed agreement (on all lesions) above. See https://en.wikipedia.org/wiki/Cohen%27s_kappa or the Viera paper on LearnIT:"
      ]
    },
    {
      "cell_type": "code",
      "execution_count": null,
      "metadata": {
        "colab": {
          "base_uri": "https://localhost:8080/"
        },
        "id": "TkNHGbdF7bHK",
        "outputId": "c646629f-496e-4cf1-c3fc-02e0fea0d115"
      },
      "outputs": [
        {
          "name": "stdout",
          "output_type": "stream",
          "text": [
            "0.4972067039106142\n"
          ]
        }
      ],
      "source": [
        "# Calculate kappa score \"by hand\" (example)\n"
      ]
    },
    {
      "cell_type": "markdown",
      "metadata": {
        "id": "WkZ643ml96eR"
      },
      "source": [
        "Check your answer against the Kappa score available in sklearn.metrics.\n",
        "\n",
        "Note that this score is only for two annotators and categorical variables. For extensions of the Cohen's Kappa you will need to adapt your own function, or use other packages."
      ]
    },
    {
      "cell_type": "code",
      "execution_count": null,
      "metadata": {
        "colab": {
          "base_uri": "https://localhost:8080/"
        },
        "id": "NG43Mxfd-H2m",
        "outputId": "740b9f7a-17c6-4a1b-cece-2ecd498c69af"
      },
      "outputs": [
        {
          "name": "stdout",
          "output_type": "stream",
          "text": [
            "0.4972067039106145\n"
          ]
        }
      ],
      "source": [
        "# Calculate Kappa score with sklearn\n",
        "\n",
        "\n"
      ]
    }
  ],
  "metadata": {
    "colab": {
      "provenance": []
    },
    "kernelspec": {
      "display_name": "Python 3",
      "name": "python3"
    },
    "language_info": {
      "name": "python"
    }
  },
  "nbformat": 4,
  "nbformat_minor": 0
}
