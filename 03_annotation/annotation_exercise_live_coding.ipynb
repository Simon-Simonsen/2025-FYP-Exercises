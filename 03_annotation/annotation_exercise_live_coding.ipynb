{
  "cells": [
    {
      "cell_type": "markdown",
      "metadata": {
        "id": "sccs5Qb1tG-2"
      },
      "source": [
        "## Projects in Data Science - Exercises for the Annotation lectures\n",
        "\n",
        "In these exercises you will use some generated and exisiting (collected from human observer) data, to practice working with inter-observer agreement.\n",
        "\n",
        "The existing data we are working with are annotations made for skin lesion images from the ISIC archive (https://www.isic-archive.com/). The annotations describe different characteristics of how the lesion look - for example, whether they are asymmetric or not.\n",
        "\n",
        "\n",
        "You can download the data here: https://figshare.com/s/5cbbce14647b66286544?file=11886200\n",
        "\n",
        "\n",
        "Each row is a different image, and each column is a different feature done by a specific annotator. For example: Asymmetry_7_1 is the feature Asymmetry annotated by annotator 7_1. There are 100 lesions, each of which was annotated by six annotators in total, five different features, and six different annotators. The feature are either binary, or ordinal.   \n",
        "\n",
        "These annotations were made in 2017 by students at TU Eindhoven. You can (optionally) read more about the background and how the annotations can be used in these papers:\n",
        "\n",
        "* https://arxiv.org/pdf/1806.08174\n",
        "* https://www.melba-journal.org/papers/2021:020.html\n",
        "\n"
      ]
    },
    {
      "cell_type": "code",
      "execution_count": 1,
      "metadata": {},
      "outputs": [],
      "source": [
        "import pandas as pd\n",
        "import matplotlib.pyplot as plt\n",
        "import numpy as np"
      ]
    },
    {
      "cell_type": "code",
      "execution_count": null,
      "metadata": {
        "colab": {
          "base_uri": "https://localhost:8080/"
        },
        "id": "aQ251P0ptDmv",
        "outputId": "dc918d74-e60d-4b34-eb80-2efd6e9eba5b"
      },
      "outputs": [],
      "source": [
        "# Load skin lesion annotations as a dataframe\n",
        "# We generally prefer to use a csv but this data is provided in excel format.\n",
        "# You may need to install the openpyxl package to read excel files, or convert this to csv.\n",
        "\n",
        "df = pd.read_excel('group07.xlsx')"
      ]
    },
    {
      "cell_type": "code",
      "execution_count": 3,
      "metadata": {},
      "outputs": [],
      "source": [
        "# For this task, we are only interesting in the annotations, and so we can drop the other columns\n",
        "df.drop(columns=['Keratosis', 'Melanoma', 'Age', 'Sex'], axis=1,inplace=True) #Inplace=True modifies the dataframe directly, rather than returning a new dataframe"
      ]
    },
    {
      "cell_type": "code",
      "execution_count": 4,
      "metadata": {},
      "outputs": [
        {
          "data": {
            "text/html": [
              "<div>\n",
              "<style scoped>\n",
              "    .dataframe tbody tr th:only-of-type {\n",
              "        vertical-align: middle;\n",
              "    }\n",
              "\n",
              "    .dataframe tbody tr th {\n",
              "        vertical-align: top;\n",
              "    }\n",
              "\n",
              "    .dataframe thead th {\n",
              "        text-align: right;\n",
              "    }\n",
              "</style>\n",
              "<table border=\"1\" class=\"dataframe\">\n",
              "  <thead>\n",
              "    <tr style=\"text-align: right;\">\n",
              "      <th></th>\n",
              "      <th>Asymmetry_7_1</th>\n",
              "      <th>Color_7_1</th>\n",
              "      <th>Border_7_1</th>\n",
              "      <th>Dermo_7_1</th>\n",
              "      <th>Blue_7_1</th>\n",
              "      <th>Asymmetry_7_2</th>\n",
              "      <th>Color_7_2</th>\n",
              "      <th>Border_7_2</th>\n",
              "      <th>Dermo_7_2</th>\n",
              "      <th>Blue_7_2</th>\n",
              "      <th>...</th>\n",
              "      <th>Asymmetry_7_5</th>\n",
              "      <th>Color_7_5</th>\n",
              "      <th>Border_7_5</th>\n",
              "      <th>Dermo_7_5</th>\n",
              "      <th>Blue_7_5</th>\n",
              "      <th>Asymmetry_7_6</th>\n",
              "      <th>Color_7_6</th>\n",
              "      <th>Border_7_6</th>\n",
              "      <th>Dermo_7_6</th>\n",
              "      <th>Blue_7_6</th>\n",
              "    </tr>\n",
              "  </thead>\n",
              "  <tbody>\n",
              "    <tr>\n",
              "      <th>count</th>\n",
              "      <td>100.000000</td>\n",
              "      <td>100.000000</td>\n",
              "      <td>100.000000</td>\n",
              "      <td>100.000000</td>\n",
              "      <td>100.000000</td>\n",
              "      <td>100.000000</td>\n",
              "      <td>100.000000</td>\n",
              "      <td>100.00000</td>\n",
              "      <td>100.00000</td>\n",
              "      <td>100.000000</td>\n",
              "      <td>...</td>\n",
              "      <td>100.00000</td>\n",
              "      <td>100.000000</td>\n",
              "      <td>100.000000</td>\n",
              "      <td>100.000000</td>\n",
              "      <td>100.000000</td>\n",
              "      <td>98.000000</td>\n",
              "      <td>99.000000</td>\n",
              "      <td>98.000000</td>\n",
              "      <td>99.000000</td>\n",
              "      <td>99.000000</td>\n",
              "    </tr>\n",
              "    <tr>\n",
              "      <th>mean</th>\n",
              "      <td>1.420000</td>\n",
              "      <td>1.980000</td>\n",
              "      <td>0.840000</td>\n",
              "      <td>0.550000</td>\n",
              "      <td>0.200000</td>\n",
              "      <td>1.130000</td>\n",
              "      <td>2.920000</td>\n",
              "      <td>0.59000</td>\n",
              "      <td>1.09000</td>\n",
              "      <td>0.310000</td>\n",
              "      <td>...</td>\n",
              "      <td>0.83000</td>\n",
              "      <td>2.810000</td>\n",
              "      <td>0.600000</td>\n",
              "      <td>1.080000</td>\n",
              "      <td>0.160000</td>\n",
              "      <td>1.000000</td>\n",
              "      <td>1.777778</td>\n",
              "      <td>0.387755</td>\n",
              "      <td>0.787879</td>\n",
              "      <td>0.141414</td>\n",
              "    </tr>\n",
              "    <tr>\n",
              "      <th>std</th>\n",
              "      <td>0.741007</td>\n",
              "      <td>1.171893</td>\n",
              "      <td>0.368453</td>\n",
              "      <td>0.625631</td>\n",
              "      <td>0.402015</td>\n",
              "      <td>0.747454</td>\n",
              "      <td>1.051022</td>\n",
              "      <td>0.51434</td>\n",
              "      <td>0.51434</td>\n",
              "      <td>0.597892</td>\n",
              "      <td>...</td>\n",
              "      <td>0.75284</td>\n",
              "      <td>1.152029</td>\n",
              "      <td>0.492366</td>\n",
              "      <td>0.580491</td>\n",
              "      <td>0.368453</td>\n",
              "      <td>0.625901</td>\n",
              "      <td>0.931923</td>\n",
              "      <td>0.489743</td>\n",
              "      <td>0.718171</td>\n",
              "      <td>0.350222</td>\n",
              "    </tr>\n",
              "    <tr>\n",
              "      <th>min</th>\n",
              "      <td>0.000000</td>\n",
              "      <td>1.000000</td>\n",
              "      <td>0.000000</td>\n",
              "      <td>0.000000</td>\n",
              "      <td>0.000000</td>\n",
              "      <td>0.000000</td>\n",
              "      <td>1.000000</td>\n",
              "      <td>0.00000</td>\n",
              "      <td>0.00000</td>\n",
              "      <td>0.000000</td>\n",
              "      <td>...</td>\n",
              "      <td>0.00000</td>\n",
              "      <td>1.000000</td>\n",
              "      <td>0.000000</td>\n",
              "      <td>0.000000</td>\n",
              "      <td>0.000000</td>\n",
              "      <td>0.000000</td>\n",
              "      <td>1.000000</td>\n",
              "      <td>0.000000</td>\n",
              "      <td>0.000000</td>\n",
              "      <td>0.000000</td>\n",
              "    </tr>\n",
              "    <tr>\n",
              "      <th>25%</th>\n",
              "      <td>1.000000</td>\n",
              "      <td>1.000000</td>\n",
              "      <td>1.000000</td>\n",
              "      <td>0.000000</td>\n",
              "      <td>0.000000</td>\n",
              "      <td>1.000000</td>\n",
              "      <td>2.000000</td>\n",
              "      <td>0.00000</td>\n",
              "      <td>1.00000</td>\n",
              "      <td>0.000000</td>\n",
              "      <td>...</td>\n",
              "      <td>0.00000</td>\n",
              "      <td>2.000000</td>\n",
              "      <td>0.000000</td>\n",
              "      <td>1.000000</td>\n",
              "      <td>0.000000</td>\n",
              "      <td>1.000000</td>\n",
              "      <td>1.000000</td>\n",
              "      <td>0.000000</td>\n",
              "      <td>0.000000</td>\n",
              "      <td>0.000000</td>\n",
              "    </tr>\n",
              "    <tr>\n",
              "      <th>50%</th>\n",
              "      <td>2.000000</td>\n",
              "      <td>2.000000</td>\n",
              "      <td>1.000000</td>\n",
              "      <td>0.000000</td>\n",
              "      <td>0.000000</td>\n",
              "      <td>1.000000</td>\n",
              "      <td>3.000000</td>\n",
              "      <td>1.00000</td>\n",
              "      <td>1.00000</td>\n",
              "      <td>0.000000</td>\n",
              "      <td>...</td>\n",
              "      <td>1.00000</td>\n",
              "      <td>2.000000</td>\n",
              "      <td>1.000000</td>\n",
              "      <td>1.000000</td>\n",
              "      <td>0.000000</td>\n",
              "      <td>1.000000</td>\n",
              "      <td>2.000000</td>\n",
              "      <td>0.000000</td>\n",
              "      <td>1.000000</td>\n",
              "      <td>0.000000</td>\n",
              "    </tr>\n",
              "    <tr>\n",
              "      <th>75%</th>\n",
              "      <td>2.000000</td>\n",
              "      <td>2.000000</td>\n",
              "      <td>1.000000</td>\n",
              "      <td>1.000000</td>\n",
              "      <td>0.000000</td>\n",
              "      <td>2.000000</td>\n",
              "      <td>3.000000</td>\n",
              "      <td>1.00000</td>\n",
              "      <td>1.00000</td>\n",
              "      <td>0.000000</td>\n",
              "      <td>...</td>\n",
              "      <td>1.00000</td>\n",
              "      <td>3.250000</td>\n",
              "      <td>1.000000</td>\n",
              "      <td>1.000000</td>\n",
              "      <td>0.000000</td>\n",
              "      <td>1.000000</td>\n",
              "      <td>2.000000</td>\n",
              "      <td>1.000000</td>\n",
              "      <td>1.000000</td>\n",
              "      <td>0.000000</td>\n",
              "    </tr>\n",
              "    <tr>\n",
              "      <th>max</th>\n",
              "      <td>2.000000</td>\n",
              "      <td>5.000000</td>\n",
              "      <td>1.000000</td>\n",
              "      <td>2.000000</td>\n",
              "      <td>1.000000</td>\n",
              "      <td>2.000000</td>\n",
              "      <td>6.000000</td>\n",
              "      <td>2.00000</td>\n",
              "      <td>2.00000</td>\n",
              "      <td>2.000000</td>\n",
              "      <td>...</td>\n",
              "      <td>2.00000</td>\n",
              "      <td>6.000000</td>\n",
              "      <td>1.000000</td>\n",
              "      <td>2.000000</td>\n",
              "      <td>1.000000</td>\n",
              "      <td>2.000000</td>\n",
              "      <td>5.000000</td>\n",
              "      <td>1.000000</td>\n",
              "      <td>2.000000</td>\n",
              "      <td>1.000000</td>\n",
              "    </tr>\n",
              "  </tbody>\n",
              "</table>\n",
              "<p>8 rows × 30 columns</p>\n",
              "</div>"
            ],
            "text/plain": [
              "       Asymmetry_7_1   Color_7_1  Border_7_1   Dermo_7_1    Blue_7_1  \\\n",
              "count     100.000000  100.000000  100.000000  100.000000  100.000000   \n",
              "mean        1.420000    1.980000    0.840000    0.550000    0.200000   \n",
              "std         0.741007    1.171893    0.368453    0.625631    0.402015   \n",
              "min         0.000000    1.000000    0.000000    0.000000    0.000000   \n",
              "25%         1.000000    1.000000    1.000000    0.000000    0.000000   \n",
              "50%         2.000000    2.000000    1.000000    0.000000    0.000000   \n",
              "75%         2.000000    2.000000    1.000000    1.000000    0.000000   \n",
              "max         2.000000    5.000000    1.000000    2.000000    1.000000   \n",
              "\n",
              "       Asymmetry_7_2   Color_7_2  Border_7_2  Dermo_7_2    Blue_7_2  ...  \\\n",
              "count     100.000000  100.000000   100.00000  100.00000  100.000000  ...   \n",
              "mean        1.130000    2.920000     0.59000    1.09000    0.310000  ...   \n",
              "std         0.747454    1.051022     0.51434    0.51434    0.597892  ...   \n",
              "min         0.000000    1.000000     0.00000    0.00000    0.000000  ...   \n",
              "25%         1.000000    2.000000     0.00000    1.00000    0.000000  ...   \n",
              "50%         1.000000    3.000000     1.00000    1.00000    0.000000  ...   \n",
              "75%         2.000000    3.000000     1.00000    1.00000    0.000000  ...   \n",
              "max         2.000000    6.000000     2.00000    2.00000    2.000000  ...   \n",
              "\n",
              "       Asymmetry_7_5   Color_7_5  Border_7_5   Dermo_7_5    Blue_7_5  \\\n",
              "count      100.00000  100.000000  100.000000  100.000000  100.000000   \n",
              "mean         0.83000    2.810000    0.600000    1.080000    0.160000   \n",
              "std          0.75284    1.152029    0.492366    0.580491    0.368453   \n",
              "min          0.00000    1.000000    0.000000    0.000000    0.000000   \n",
              "25%          0.00000    2.000000    0.000000    1.000000    0.000000   \n",
              "50%          1.00000    2.000000    1.000000    1.000000    0.000000   \n",
              "75%          1.00000    3.250000    1.000000    1.000000    0.000000   \n",
              "max          2.00000    6.000000    1.000000    2.000000    1.000000   \n",
              "\n",
              "       Asymmetry_7_6  Color_7_6  Border_7_6  Dermo_7_6   Blue_7_6  \n",
              "count      98.000000  99.000000   98.000000  99.000000  99.000000  \n",
              "mean        1.000000   1.777778    0.387755   0.787879   0.141414  \n",
              "std         0.625901   0.931923    0.489743   0.718171   0.350222  \n",
              "min         0.000000   1.000000    0.000000   0.000000   0.000000  \n",
              "25%         1.000000   1.000000    0.000000   0.000000   0.000000  \n",
              "50%         1.000000   2.000000    0.000000   1.000000   0.000000  \n",
              "75%         1.000000   2.000000    1.000000   1.000000   0.000000  \n",
              "max         2.000000   5.000000    1.000000   2.000000   1.000000  \n",
              "\n",
              "[8 rows x 30 columns]"
            ]
          },
          "execution_count": 4,
          "metadata": {},
          "output_type": "execute_result"
        }
      ],
      "source": [
        "df.describe() #Describe gives us some summary statistics of numerical coloumns in the dataframe"
      ]
    },
    {
      "cell_type": "code",
      "execution_count": 5,
      "metadata": {},
      "outputs": [
        {
          "name": "stdout",
          "output_type": "stream",
          "text": [
            "<class 'pandas.core.frame.DataFrame'>\n",
            "RangeIndex: 100 entries, 0 to 99\n",
            "Data columns (total 31 columns):\n",
            " #   Column         Non-Null Count  Dtype  \n",
            "---  ------         --------------  -----  \n",
            " 0   ID             100 non-null    object \n",
            " 1   Asymmetry_7_1  100 non-null    int64  \n",
            " 2   Color_7_1      100 non-null    int64  \n",
            " 3   Border_7_1     100 non-null    int64  \n",
            " 4   Dermo_7_1      100 non-null    int64  \n",
            " 5   Blue_7_1       100 non-null    int64  \n",
            " 6   Asymmetry_7_2  100 non-null    int64  \n",
            " 7   Color_7_2      100 non-null    int64  \n",
            " 8   Border_7_2     100 non-null    int64  \n",
            " 9   Dermo_7_2      100 non-null    int64  \n",
            " 10  Blue_7_2       100 non-null    int64  \n",
            " 11  Asymmetry_7_3  96 non-null     float64\n",
            " 12  Color_7_3      98 non-null     float64\n",
            " 13  Border_7_3     98 non-null     float64\n",
            " 14  Dermo_7_3      98 non-null     float64\n",
            " 15  Blue_7_3       98 non-null     float64\n",
            " 16  Asymmetry_7_4  99 non-null     float64\n",
            " 17  Color_7_4      100 non-null    int64  \n",
            " 18  Border_7_4     100 non-null    int64  \n",
            " 19  Dermo_7_4      100 non-null    int64  \n",
            " 20  Blue_7_4       100 non-null    int64  \n",
            " 21  Asymmetry_7_5  100 non-null    int64  \n",
            " 22  Color_7_5      100 non-null    int64  \n",
            " 23  Border_7_5     100 non-null    int64  \n",
            " 24  Dermo_7_5      100 non-null    int64  \n",
            " 25  Blue_7_5       100 non-null    int64  \n",
            " 26  Asymmetry_7_6  98 non-null     float64\n",
            " 27  Color_7_6      99 non-null     float64\n",
            " 28  Border_7_6     98 non-null     float64\n",
            " 29  Dermo_7_6      99 non-null     float64\n",
            " 30  Blue_7_6       99 non-null     float64\n",
            "dtypes: float64(11), int64(19), object(1)\n",
            "memory usage: 24.3+ KB\n"
          ]
        }
      ],
      "source": [
        "# Info tells us what type of data is in each column, and how many non-null values there are\n",
        "# Depending what we want to do with the data, we may need to do something with those nulls.\n",
        "# We might also need to convert some columns to a different type, but right now, this will be fine.\n",
        "df.info()"
      ]
    },
    {
      "cell_type": "code",
      "execution_count": 6,
      "metadata": {},
      "outputs": [
        {
          "data": {
            "text/plain": [
              "['Blue_7_1', 'Blue_7_2', 'Blue_7_3', 'Blue_7_4', 'Blue_7_5', 'Blue_7_6']"
            ]
          },
          "execution_count": 6,
          "metadata": {},
          "output_type": "execute_result"
        }
      ],
      "source": [
        "## List comprehension to pick out all column names with 'Blue' in\n",
        "# This lets us get all 6 annotators' annotations for the 'Blue' feature in one go\n",
        "[x for x in df.columns if 'Blue' in x]"
      ]
    },
    {
      "cell_type": "code",
      "execution_count": 7,
      "metadata": {},
      "outputs": [
        {
          "data": {
            "text/plain": [
              "<Axes: >"
            ]
          },
          "execution_count": 7,
          "metadata": {},
          "output_type": "execute_result"
        },
        {
          "data": {
            "image/png": "[encoded data removed]",
            "text/plain": [
              "<Figure size 640x480 with 1 Axes>"
            ]
          },
          "metadata": {},
          "output_type": "display_data"
        }
      ],
      "source": [
        "# We can use our list comphrehension to plot a boxplot of these, for example\n",
        "# Box plots are another way to view summary statistics and sometimes lets us spot interesting things\n",
        "#Typically: \n",
        "# The green line is the median, the box is the interquartile range, and the whiskers are the min and max values\n",
        "# dots represent values outside of the whiskers, ie possible outliers\n",
        "# 'Blue' however doesn't make for great box plots (try changing to different features to see the difference)\n",
        "# However, we can see annotator 2 has some strange results as the annotations should be [0,1]\n",
        "\n",
        "\n",
        "df[[x for x in df.columns if 'Blue' in x]].plot(kind='box')"
      ]
    },
    {
      "cell_type": "code",
      "execution_count": 8,
      "metadata": {},
      "outputs": [
        {
          "data": {
            "image/png": "[encoded data removed]",
            "text/plain": [
              "<Figure size 1500x300 with 6 Axes>"
            ]
          },
          "metadata": {},
          "output_type": "display_data"
        },
        {
          "data": {
            "image/png": "[encoded data removed]",
            "text/plain": [
              "<Figure size 1500x300 with 6 Axes>"
            ]
          },
          "metadata": {},
          "output_type": "display_data"
        },
        {
          "data": {
            "image/png": "[encoded data removed]",
            "text/plain": [
              "<Figure size 1500x300 with 6 Axes>"
            ]
          },
          "metadata": {},
          "output_type": "display_data"
        },
        {
          "data": {
            "image/png": "[encoded data removed]",
            "text/plain": [
              "<Figure size 1500x300 with 6 Axes>"
            ]
          },
          "metadata": {},
          "output_type": "display_data"
        },
        {
          "data": {
            "image/png": "[encoded data removed]",
            "text/plain": [
              "<Figure size 1500x300 with 6 Axes>"
            ]
          },
          "metadata": {},
          "output_type": "display_data"
        }
      ],
      "source": [
        "# It can also be interesting to compare distributions,\n",
        "# Depending on the data, histograms might be better than bar plots\n",
        "\n",
        "feats = ['Asymmetry', 'Color', 'Border', 'Dermo', 'Blue'] # Each feature we want to consider\n",
        "\n",
        "for feature in feats: #loop through our featutes\n",
        "    _,ax = plt.subplots(1,6,figsize=(15,3), sharex=True, sharey=True) #this creates a 1X6 grid for each feature\n",
        "    #ax = ax.flatten() #not needed for a single row, but if you want to change to figsize=(3,2), this makes plotting simpler\n",
        "    for i in range(6): #hardcoding values is usually a bad idea, but in this instance, we know we have 6 annotators so it will be fine\n",
        "        counts = df[f'{feature}_7_{i+1}'].value_counts() #count the number of each value in the column f'feature_7_{i+1}'  (f'' is a f-string, which lets us insert variables into strings, as we know the column names follow this pattern)\n",
        "        ax[i].bar(counts.index, counts.values) #make a bar plot of the counts\n",
        "        ax[i].set_title(f'{feature}_7_{i+1}') #set the title of the plot, this is usually a good idea to make good plots\n",
        "        ax[i].set_xlabel('Value') #set the x-axis label\n",
        "        ax[i].set_ylabel('Count') #set the y-axis label\n",
        "        ax[i].grid(True) #adds gridlines, which can make it easier to read the plot, but you can comment out if you prefer\n",
        "\n",
        "    plt.tight_layout()"
      ]
    },
    {
      "cell_type": "markdown",
      "metadata": {
        "id": "zlDMsdizvxrA"
      },
      "source": [
        "## How often do annotators agree?\n",
        "\n",
        "Select Blue which is a binary feature, for two different annotators. Calculate how often they agree in percent. This is the same as the accuracy metric but you can do this without any imports.\n",
        "\n"
      ]
    },
    {
      "cell_type": "code",
      "execution_count": 9,
      "metadata": {
        "colab": {
          "base_uri": "https://localhost:8080/"
        },
        "id": "IGUWDGuJvuz-",
        "outputId": "e35ac3ed-c732-4099-f8c6-4212d2257bcc"
      },
      "outputs": [
        {
          "name": "stdout",
          "output_type": "stream",
          "text": [
            "82.0\n",
            "90.0\n"
          ]
        }
      ],
      "source": [
        "## Select two annotators and compute observed agreement (\"accuracy\")\n",
        "\n",
        "def observed_agreement(df, annotator1, annotator2):\n",
        "    '''ooh docstings - these are good practice to help others understand what your function does.\n",
        "    And yourself when you look back on this next year and wonder what you were thinking.\n",
        "    This function takes a dataframe, and two column names, \n",
        "    and returns the observed agreement between the two annotators'''\n",
        "    return 100 *sum(df[annotator1] == df[annotator2])/df.shape[0] # == is a boolen comparison, so this will return True if the two values are the same, and False if they are different. Python lets us treat True as 1 and False as 0, so we can sum these to get the number of agreements.\n",
        "\n",
        "\n",
        "\n",
        "\n",
        "print(observed_agreement(df, 'Blue_7_1', 'Blue_7_2'))\n",
        "print(observed_agreement(df, 'Blue_7_1', 'Blue_7_3'))"
      ]
    },
    {
      "cell_type": "code",
      "execution_count": 10,
      "metadata": {},
      "outputs": [
        {
          "name": "stdout",
          "output_type": "stream",
          "text": [
            "99.0\n",
            "65   NaN\n",
            "Name: Blue_7_6, dtype: float64\n"
          ]
        }
      ],
      "source": [
        "## A small aside to think about, if you are interested\n",
        "\n",
        "# We had some null values when we explored the data earlier\n",
        "# What happens if we compare two annotators when there is null values?\n",
        "\n",
        "print(observed_agreement(df, 'Blue_7_6', 'Blue_7_6')) #This column has a null, and when we check, there is only a 99% agreement - with itself!\n",
        "# This is because the null value is not equal to itself, and so the comparison returns False.\n",
        "\n",
        "print(df[df['Blue_7_6'].isna()]['Blue_7_6']) #confirm there is a null value in this column\n",
        "\n",
        "# You may wish to consider how this could be handled in your analysis - there isn't necessarily a _right_ answer, as it will depend on the data *and* the question you are asking"
      ]
    },
    {
      "cell_type": "markdown",
      "metadata": {
        "id": "8kBI_YhGw9qR"
      },
      "source": [
        "Make a 6x6 array where you loop through the different annotators, and calculate their agreement. You should see that for all annotator pairs, the percentage of agreement is between 80 and 90.\n"
      ]
    },
    {
      "cell_type": "code",
      "execution_count": 11,
      "metadata": {
        "id": "MgernQTExsOO"
      },
      "outputs": [
        {
          "name": "stdout",
          "output_type": "stream",
          "text": [
            "[[ 0. 82. 90. 83. 82. 83.]\n",
            " [ 0.  0. 81. 77. 78. 77.]\n",
            " [ 0.  0.  0. 86. 82. 87.]\n",
            " [ 0.  0.  0.  0. 87. 94.]\n",
            " [ 0.  0.  0.  0.  0. 87.]\n",
            " [ 0.  0.  0.  0.  0.  0.]]\n"
          ]
        }
      ],
      "source": [
        "## Loop through the annotators\n",
        "\n",
        "agreements = np.zeros((6,6)) # Create an empty array to store the agreements, this lets me access them again later without recalculating\n",
        "\n",
        "for i in range(1,7):\n",
        "    for j in range(i+1,7): #Generally we want to avoid nested loops, but sometimes we can't - also sometimes it makes our code easier to understand\n",
        "        agreements[i-1,j-1] = observed_agreement(df, f\"Blue_7_{i}\", f\"Blue_7_{j}\") #calc the observed agreement between each pair and store it in the array\n",
        "\n",
        "print(agreements)"
      ]
    },
    {
      "cell_type": "markdown",
      "metadata": {
        "id": "J91RKtOjx4ug"
      },
      "source": [
        "## How can we interpret this agreement measure?\n",
        "\n",
        "Look at how often each annotator found that the lesion has value 1 for the Blue feature.\n"
      ]
    },
    {
      "cell_type": "code",
      "execution_count": 12,
      "metadata": {
        "colab": {
          "base_uri": "https://localhost:8080/"
        },
        "id": "BTk9XedOzG-m",
        "outputId": "fcbc005d-2d1b-4120-9866-19a0682d035b"
      },
      "outputs": [
        {
          "name": "stdout",
          "output_type": "stream",
          "text": [
            "Blue_7_1    20.0\n",
            "Blue_7_2    31.0\n",
            "Blue_7_3    17.0\n",
            "Blue_7_4    17.0\n",
            "Blue_7_5    16.0\n",
            "Blue_7_6    14.0\n",
            "dtype: float64\n"
          ]
        },
        {
          "data": {
            "text/plain": [
              "Blue_7_1    20.0\n",
              "Blue_7_2    17.0\n",
              "Blue_7_3    17.0\n",
              "Blue_7_4    17.0\n",
              "Blue_7_5    16.0\n",
              "Blue_7_6    14.0\n",
              "dtype: float64"
            ]
          },
          "execution_count": 12,
          "metadata": {},
          "output_type": "execute_result"
        }
      ],
      "source": [
        "## Find how often each annotator thought the lesion had the Blue feature\n",
        "blue = df[[x for x in df.columns if 'Blue' in x]].copy() #creates a new dataframe with only the Blue columns. Now I won't accidentally change the original dataframe, in case I need it later.\n",
        "\n",
        "print(blue.sum()) #hmm, maybe this isn't great, remember that strangeness before when annotator 2 gave a 2 for Blue that should have been between 0 and 1?\n",
        "\n",
        "blue[blue==1].sum() #this is better, it only counts where it equals 1. But in a real case, we should probably make a decision on how to handle those 2s. Again, there isn't neccessarily a right answer here. We could recode (possibly introducing error), remove this annotator entirely (losing data), or something else."
      ]
    },
    {
      "cell_type": "markdown",
      "metadata": {
        "id": "uUq3n7D301ow"
      },
      "source": [
        "Create a \"random\" feature (like an annotator who did not look at the image at all), where the Blue feature occurs as often as in the real annotations. Then again calculate the agreement. Is the result what you would expect?"
      ]
    },
    {
      "cell_type": "code",
      "execution_count": 13,
      "metadata": {
        "colab": {
          "base_uri": "https://localhost:8080/"
        },
        "id": "BRdg04WK2nGj",
        "outputId": "f0f4e7e1-742c-4ad9-af09-bf5650887d02"
      },
      "outputs": [
        {
          "data": {
            "text/plain": [
              "Blue_7_1    20.0\n",
              "Blue_7_2    17.0\n",
              "Blue_7_3    17.0\n",
              "Blue_7_4    17.0\n",
              "Blue_7_5    16.0\n",
              "Blue_7_6    14.0\n",
              "Blue_7_7    19.0\n",
              "dtype: float64"
            ]
          },
          "execution_count": 13,
          "metadata": {},
          "output_type": "execute_result"
        }
      ],
      "source": [
        "# Create random annotation with the same prevalence of Blue and calculate the observed agreement\n",
        "np.random.seed(1) # We set a seed for the random number generator so our results are reproducible. This is good practice, even if it makes it feel like its not really random.\n",
        "\n",
        "blue['Blue_7_7'] = np.random.choice([0,1], size=blue.shape[0], p=[0.8, 0.2]) #create a random annotation with 20% of the values as 1s. Is this too high? too low? How would you decide?\n",
        "\n",
        "blue[blue==1].sum()"
      ]
    },
    {
      "cell_type": "markdown",
      "metadata": {
        "id": "bCl06zc33NeK"
      },
      "source": [
        "Select only the lesions where at least one annotator thought it had the Blue feature. Calculate the agreements again (as percentage out of 100. What do you notice?"
      ]
    },
    {
      "cell_type": "code",
      "execution_count": 14,
      "metadata": {
        "colab": {
          "base_uri": "https://localhost:8080/"
        },
        "id": "DwT0UPCb4dR7",
        "outputId": "e540ceab-b53d-4c76-8530-4035de1b763d"
      },
      "outputs": [
        {
          "name": "stdout",
          "output_type": "stream",
          "text": [
            "[[ 0.   62.5  81.25 64.58 62.5  66.67 27.08]\n",
            " [ 0.    0.   62.5  52.08 54.17 54.17 25.  ]\n",
            " [ 0.    0.    0.   72.92 64.58 75.   31.25]\n",
            " [ 0.    0.    0.    0.   72.92 89.58 29.17]\n",
            " [ 0.    0.    0.    0.    0.   75.   35.42]\n",
            " [ 0.    0.    0.    0.    0.    0.   35.42]\n",
            " [ 0.    0.    0.    0.    0.    0.    0.  ]]\n"
          ]
        }
      ],
      "source": [
        "# Find all lesions with at least one Blue annotation, and calculate agreement again (in %)\n",
        "\n",
        "blue_1s = blue[blue.sum(axis=1) != 0].copy() # make a df with only the rows where at least one annotator thought the lesion had the Blue feature\n",
        "\n",
        "agreements_1 = np.zeros((7,7))\n",
        "\n",
        "for i in range(1,8):\n",
        "    for j in range(i+1,8):\n",
        "        agreements_1[i-1,j-1] = observed_agreement(blue_1s, f\"Blue_7_{i}\", f\"Blue_7_{j}\")\n",
        "\n",
        "print(agreements_1.round(2)) #I'm rounding here for readability, as we no longer have a neat number of results\n",
        "\n",
        "# The final column is our random annotator. Whilst the observed agreement is less than for other pairs, it still feels higher than we might have expected - maybe? This could be problem, so we want to take this random agreement into account."
      ]
    },
    {
      "cell_type": "markdown",
      "metadata": {
        "id": "8cNQqr0-6J7I"
      },
      "source": [
        "## Cohen's Kappa\n",
        "\n",
        "As you maybe see above, total % of agreement may not reflect what you want to find out about your annotations, if the different values are not occuring equally often.\n",
        "\n",
        "Instead let's look at the Kappa score, which adjusts for this. You can calculate it yourself it from the observed agreement (on all lesions) above. See https://en.wikipedia.org/wiki/Cohen%27s_kappa or the Viera paper on LearnIT:"
      ]
    },
    {
      "cell_type": "code",
      "execution_count": 15,
      "metadata": {
        "colab": {
          "base_uri": "https://localhost:8080/"
        },
        "id": "TkNHGbdF7bHK",
        "outputId": "c646629f-496e-4cf1-c3fc-02e0fea0d115"
      },
      "outputs": [
        {
          "data": {
            "text/plain": [
              "0.4972067039106142"
            ]
          },
          "execution_count": 15,
          "metadata": {},
          "output_type": "execute_result"
        }
      ],
      "source": [
        "# Calculate kappa score \"by hand\" (example)\n",
        "def kappa(col1, col2):\n",
        "    n = df.shape[0] #get length of the dataframe\n",
        "\n",
        "    #observed agreement - how often they actually agree, either 0 or 1\n",
        "    p_o = sum(col1 == col2)/n\n",
        "\n",
        "    # how often does each rater pick category 1\n",
        "    #category1, rater 1\n",
        "    n_1_1 = sum(col1==1)\n",
        "    #category1, rater 2\n",
        "    n_1_2 = sum(col2==1)\n",
        "\n",
        "    # how often does each rater pick category 0\n",
        "    #category0, rater 1\n",
        "    n_0_1 = sum(col1==0)\n",
        "    #category0, rater 2\n",
        "    n_0_2 = sum(col2==0)\n",
        "\n",
        "    # calc chance agreement\n",
        "    p_e = (n_1_1/n)*(n_1_2/n) + (n_0_1/n)*(n_0_2/n)\n",
        "\n",
        "    # calc cohens-kappa\n",
        "    kappa = (p_o - p_e)/(1 - p_e)\n",
        "\n",
        "    return kappa\n",
        "\n",
        "kappa(blue['Blue_7_1'], blue['Blue_7_2'])"
      ]
    },
    {
      "cell_type": "markdown",
      "metadata": {
        "id": "WkZ643ml96eR"
      },
      "source": [
        "Check your answer against the Kappa score available in sklearn.metrics.\n",
        "\n",
        "Note that this score is only for two annotators and categorical variables. For extensions of the Cohen's Kappa you will need to adapt your own function, or use other packages."
      ]
    },
    {
      "cell_type": "code",
      "execution_count": 16,
      "metadata": {
        "colab": {
          "base_uri": "https://localhost:8080/"
        },
        "id": "NG43Mxfd-H2m",
        "outputId": "740b9f7a-17c6-4a1b-cece-2ecd498c69af"
      },
      "outputs": [
        {
          "data": {
            "text/plain": [
              "np.float64(0.4972067039106145)"
            ]
          },
          "execution_count": 16,
          "metadata": {},
          "output_type": "execute_result"
        }
      ],
      "source": [
        "# Calculate Kappa score with sklearn\n",
        "\n",
        "from sklearn.metrics import cohen_kappa_score\n",
        "\n",
        "cohen_kappa_score(blue['Blue_7_1'], blue['Blue_7_2'])\n"
      ]
    },
    {
      "cell_type": "code",
      "execution_count": 17,
      "metadata": {},
      "outputs": [
        {
          "data": {
            "text/plain": [
              "array([[0.   , 0.497, 0.686, 0.437, 0.392, 0.418],\n",
              "       [0.   , 0.   , 0.466, 0.324, 0.342, 0.303],\n",
              "       [0.   , 0.   , 0.   , 0.531, 0.384, 0.548],\n",
              "       [0.   , 0.   , 0.   , 0.   , 0.528, 0.778],\n",
              "       [0.   , 0.   , 0.   , 0.   , 0.   , 0.507],\n",
              "       [0.   , 0.   , 0.   , 0.   , 0.   , 0.   ]])"
            ]
          },
          "execution_count": 17,
          "metadata": {},
          "output_type": "execute_result"
        }
      ],
      "source": [
        "kappa_scores = np.zeros((6,6))\n",
        "\n",
        "for i in range(1,7):\n",
        "    for j in range(i+1,7):\n",
        "        # I'm using the function I defined earlier - what happens if you switch it to the sklearn function? Hint: We never dealt with those nulls...\n",
        "        kappa_scores[i-1,j-1] = kappa(df[f\"Blue_7_{i}\"], df[f\"Blue_7_{j}\"])\n",
        "\n",
        "kappa_scores.round(3)"
      ]
    }
  ],
  "metadata": {
    "colab": {
      "provenance": []
    },
    "kernelspec": {
      "display_name": "FYP",
      "language": "python",
      "name": "python3"
    },
    "language_info": {
      "codemirror_mode": {
        "name": "ipython",
        "version": 3
      },
      "file_extension": ".py",
      "mimetype": "text/x-python",
      "name": "python",
      "nbconvert_exporter": "python",
      "pygments_lexer": "ipython3",
      "version": "3.11.11"
    }
  },
  "nbformat": 4,
  "nbformat_minor": 0
}
