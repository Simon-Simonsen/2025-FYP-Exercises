{
 "cells": [
  {
   "cell_type": "markdown",
   "metadata": {},
   "source": [
    "# Projects in data science: GitHub"
   ]
  },
  {
   "cell_type": "markdown",
   "metadata": {},
   "source": [
    "## Part 1: Setup git and GitHub\n",
    "1. [Install git](https://docs.github.com/en/get-started/getting-started-with-git/set-up-git#setting-up-git)\n",
    "2. Create your GitHub account\n",
    "3. (Optional) [Setup the SSH](https://docs.github.com/en/get-started/getting-started-with-git/set-up-git#connecting-over-ssh)\n",
    "4. Verify your installation with a simple Test repository as for example shown during the demo "
   ]
  },
  {
   "cell_type": "markdown",
   "metadata": {},
   "source": [
    "## Part 2: First steps with Git\n",
    "Do this part with your group\n"
   ]
  },
  {
   "cell_type": "markdown",
   "metadata": {},
   "source": [
    "**Exercices** :\n",
    "1. One member create a new repository, create a file *members.md* and add the other members\n",
    "2. Every member can then do the following instruction **outside the browser**:\n",
    "    * Get the latest version of the repository\n",
    "    * Add his/her name to presentation.md\n",
    "    * Create a new file\n",
    "    * push the changes in the same commit\n",
    "3. run create a gitlog.txt to see the history of your repo with the command git log > gitlog.txt\n"
   ]
  },
  {
   "cell_type": "markdown",
   "metadata": {},
   "source": [
    "**Your comments:**"
   ]
  },
  {
   "cell_type": "markdown",
   "metadata": {},
   "source": [
    "## Part 3: Work with an existing folder\n",
    "You can this part alone"
   ]
  },
  {
   "cell_type": "markdown",
   "metadata": {},
   "source": [
    "**Exercises**:\n",
    "1. Create a local folder\n",
    "2. Create a empty repository on GitHub and link your local folder to it\n",
    "3. Create config.py with the following line: email=\"YOUR_EMAIL\"\n",
    "4. Push config.py on the remote server\n",
    "5. Create script.py with the following code\n",
    "    ```python\n",
    "    from config import email\n",
    "    print(f\"My email is: {email}\")\n",
    "    ```\n",
    "6. Replace \"YOUR_EMAIL\" by your real email\n",
    "7. Create .gitignore to ensure changes in config.py won't be pushed to the remote repository\n",
    "8. Push what's possible on the remote repository"
   ]
  },
  {
   "cell_type": "markdown",
   "metadata": {},
   "source": [
    "**Your comments:**"
   ]
  }
 ],
 "metadata": {
  "language_info": {
   "name": "python"
  }
 },
 "nbformat": 4,
 "nbformat_minor": 2
}
